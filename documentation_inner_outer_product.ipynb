{
  "nbformat": 4,
  "nbformat_minor": 0,
  "metadata": {
    "colab": {
      "provenance": [],
      "authorship_tag": "ABX9TyP3IcOtbAvKfNhGg5sLmHog",
      "include_colab_link": true
    },
    "kernelspec": {
      "name": "python3",
      "display_name": "Python 3"
    },
    "language_info": {
      "name": "python"
    }
  },
  "cells": [
    {
      "cell_type": "markdown",
      "metadata": {
        "id": "view-in-github",
        "colab_type": "text"
      },
      "source": [
        "<a href=\"https://colab.research.google.com/github/yasmensarhan27/23-Homework2G5/blob/Documentation-HW2/documentation_inner_outer_product.ipynb\" target=\"_parent\"><img src=\"https://colab.research.google.com/assets/colab-badge.svg\" alt=\"Open In Colab\"/></a>"
      ]
    },
    {
      "cell_type": "code",
      "execution_count": null,
      "metadata": {
        "id": "fiFn9jhHfKca"
      },
      "outputs": [],
      "source": [
        "\n"
      ]
    },
    {
      "cell_type": "markdown",
      "source": [
        "#**Documentation:**\n",
        "##**Overview**\n",
        "###**The Inner Product function:**\n",
        "The inner product is calculated by multiplying the corresponding elements of the two vectors and summing the results.\n",
        "The inner product of 2 vectors **a** and **b** =\n",
        "#**$ \\sum_{i=0}^{n} a_{i} b_{i}$**\n",
        "\n",
        "The **inner_product()** function can be used to calculate the inner product of any two vectors of the same length.\n",
        "\n",
        "The inner product is a scalar value that represents the similarity between the two vectors.\n",
        "\n",
        "#### **Input or Arguments**\n",
        "The function takes two vectors as input. The vectors must be of the same length.\n",
        "\n",
        "####**Output**\n",
        "The function returns the inner product of the two vectors.\n",
        "\n",
        "###**The outer prouct function:**\n",
        "\n",
        "The outer product is a matrix that is formed by multiplying the corresponding elements of the two vectors and storing the results in the corresponding elements of the matrix.\n",
        "The **outer_product()** function can be used to calculate the outer product of any two vectors of any length.\n",
        "\n",
        "The outer product of a and b can be represented by:\n",
        "#**$ \\sum_{i=0,j=0}^{n} a_{i} b_{j} * δ_{i,j}$**\n",
        "\n",
        "#### **Input or Arguments**\n",
        "The function takes two vectors as input.\n",
        "\n",
        "####**Output**\n",
        "The function returns a matrix that is the outer product of the two vectors. The matrix will have dimensions \\begin{matrix} (len(a), len(b)) \\end{matrix} where a and b are the two input vectors.\n",
        "\n",
        "\n",
        "Sources: [Stover, Christopher and Weisstein, Eric W. \"Einstein Summation.\" From MathWorld--A Wolfram Web Resource. ](https://mathworld.wolfram.com/EinsteinSummation.html)\n",
        "\n"
      ],
      "metadata": {
        "id": "SXAyhfGQfaUI"
      }
    },
    {
      "cell_type": "markdown",
      "source": [],
      "metadata": {
        "id": "kEuDqh-wfYIW"
      }
    },
    {
      "cell_type": "code",
      "source": [
        "#Python Code for inner and outer product\n",
        "import numpy as np\n",
        "def inner_product(a, b):\n",
        "  def outer_product(a, b):\n",
        "\n",
        "\n",
        "   \"\"\"\n",
        "   This Code Calculates the inner and outer product of two vectors.\n",
        "\n",
        "\n",
        "   Args:\n",
        "    a:  NumPy array representing the first vector.\n",
        "    b:  NumPy array representing the second vector.\n",
        "\n",
        "   Returns:\n",
        "    The inner product of the two vectors.\n",
        "    A NumPy array representing the outer product of the two vectors.\n",
        "\n",
        "   \"\"\"\n",
        "\n",
        "\n",
        "a=[2,3,4]\n",
        "b=[1,2,5]\n",
        "\n",
        "if len(a) != len(b):\n",
        "  raise ValueError(\"The two vectors must be of the same length.\")\n",
        "\n",
        "inner_product = 0\n",
        "for i in range(len(a)):\n",
        "  inner_product += a[i] * b[i]\n",
        "print(\"inner product: \",inner_product)\n",
        "\n",
        "outer_product = np.zeros((len(a), len(b)))\n",
        "for i in range(len(a)):\n",
        "  for j in range(len(b)):\n",
        "    outer_product[i, j] = a[i] * b[j]\n",
        "print(\"outer product: \",outer_product)\n",
        "\n",
        "#Calculating the time of calculating the inner product using for loop\n",
        "print(\"time of calculating inner product using for loop = \")\n",
        "%%timeit\n",
        "inner_product = 0\n",
        "for i in range(len(a)):\n",
        "  inner_product += a[i] * b[i]\n",
        "\n",
        "#Calculating the time of calculating the outer product using for loop\n",
        "print(\"time of calculating outer product using for loop = \")\n",
        "%%timeit\n",
        "outer_product = np.zeros((len(a), len(b)))\n",
        "for i in range(len(a)):\n",
        "  for j in range(len(b)):\n",
        "    outer_product[i, j] = a[i] * b[j]\n"
      ],
      "metadata": {
        "colab": {
          "base_uri": "https://localhost:8080/"
        },
        "id": "fWmZeb7BQnk_",
        "outputId": "ae2f2153-0fe8-4125-8ce2-3463e70d1147"
      },
      "execution_count": 74,
      "outputs": [
        {
          "output_type": "stream",
          "name": "stdout",
          "text": [
            "inner product:  28\n",
            "outer product:  [[ 2.  4. 10.]\n",
            " [ 3.  6. 15.]\n",
            " [ 4.  8. 20.]]\n",
            "time of calculating inner product using for loop = \n"
          ]
        },
        {
          "output_type": "stream",
          "name": "stderr",
          "text": [
            "UsageError: Line magic function `%%timeit` not found.\n"
          ]
        }
      ]
    },
    {
      "cell_type": "code",
      "source": [
        "import numpy as np\n",
        "\n",
        "# Create two vectors\n",
        "a = np.array([2,3,4])\n",
        "b = np.array([1,2,5])\n",
        "\n",
        "# Create a new matrix of zeros with the same dimensions as the outer product\n",
        "outer_product = np.zeros((len(a), len(b)))\n",
        "#use numpy built in fuction to calculate the outer product\n",
        "outer_product = np.outer(a,b)\n",
        "#print the outer product\n",
        "print(\"outer Product of a and b is: \", outer_product)\n",
        "\n",
        "#use numpy builtin function to calculate the inner product\n",
        "inner_product=np.inner(a,b)\n",
        "# Print the inner product\n",
        "print(\"Inner Product of a and b is: \",inner_product)\n",
        "\n",
        "#Calculating the time of calculating the inner product using numpy\n",
        "print(\"time of calculating inner product using numpy = \")\n",
        "%timeit np.inner(a,b)\n",
        "\n",
        "#Calculating the time of calculating the outer product using numpy\n",
        "print(\"time of calculating outer product using numpy = \")\n",
        "%timeit np.outer(a,b)\n"
      ],
      "metadata": {
        "id": "17S65Rz9R1jx",
        "colab": {
          "base_uri": "https://localhost:8080/"
        },
        "outputId": "ceeac438-89a1-4184-f514-8da7e617328d"
      },
      "execution_count": 75,
      "outputs": [
        {
          "output_type": "stream",
          "name": "stdout",
          "text": [
            "outer Product of a and b is:  [[ 2  4 10]\n",
            " [ 3  6 15]\n",
            " [ 4  8 20]]\n",
            "Inner Product of a and b is:  28\n",
            "time of calculating inner product using numpy = \n",
            "2.1 µs ± 510 ns per loop (mean ± std. dev. of 7 runs, 1000000 loops each)\n",
            "time of calculating outer product using numpy = \n",
            "4.39 µs ± 1.58 µs per loop (mean ± std. dev. of 7 runs, 100000 loops each)\n"
          ]
        }
      ]
    },
    {
      "cell_type": "code",
      "source": [
        "#use einsum\n",
        "import numpy as np\n",
        "\n",
        "# Create two vectors: a and b. Each vector has three elements\n",
        "a = np.array([2,3,4])\n",
        "b = np.array([1,2,5])\n",
        "\n",
        "# Calculate the inner product using Einstein notation\n",
        "inner_product = np.einsum('i,i', a, b)\n",
        "\n",
        "# Calculate the outer product using Einstein notation\n",
        "outer_product = np.einsum('i,j', a, b)\n",
        "\n",
        "# Print the outer product\n",
        "print(\"outer product=\", outer_product)\n",
        "\n",
        "# Print the inner product\n",
        "print(\"inner product= \", inner_product)\n",
        "\n",
        "#Calculating the time of calculating the inner product using eisnum\n",
        "print(\"time of calculating inner product using einsum = \")\n",
        "%timeit np.einsum('i,i', a, b)\n",
        "\n",
        "#Calculating the time of calculating the outer product using eisnum\n",
        "print(\"time of calculating outer product using einsum = \")\n",
        "%timeit np.einsum('i,j', a, b)"
      ],
      "metadata": {
        "colab": {
          "base_uri": "https://localhost:8080/"
        },
        "id": "Hj4n21Phdg5v",
        "outputId": "8275d567-2c0b-4482-9f38-57240f79ff96"
      },
      "execution_count": 76,
      "outputs": [
        {
          "output_type": "stream",
          "name": "stdout",
          "text": [
            "outer product= [[ 2  4 10]\n",
            " [ 3  6 15]\n",
            " [ 4  8 20]]\n",
            "inner product=  28\n",
            "time of calculating inner product using einsum = \n",
            "3.02 µs ± 112 ns per loop (mean ± std. dev. of 7 runs, 100000 loops each)\n",
            "time of calculating outer product using einsum = \n",
            "3.28 µs ± 196 ns per loop (mean ± std. dev. of 7 runs, 100000 loops each)\n"
          ]
        }
      ]
    },
    {
      "cell_type": "code",
      "source": [],
      "metadata": {
        "id": "BkgmIImpblw8"
      },
      "execution_count": null,
      "outputs": []
    }
  ]
}