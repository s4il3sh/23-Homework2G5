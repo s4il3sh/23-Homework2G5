##Python Code for inner and outer product
import numpy as np
def inner_product(a, b):
  def outer_product(a, b):


   """
   This Code Calculates the inner and outer product of two vectors using for loop.


   Args:
    a:   array representing the first vector.
    b:   array representing the second vector.

   Returns:
    The inner product of the two vectors.
    A numpy array representing the outer product of the two vectors.

   """

#Add 2 vectors a and b as arrays
a=[2,3,4]
b=[1,2,5]
#condition of inner product that return error if a and b are not of the same length
if len(a) != len(b):
  raise ValueError("The two vectors must be of the same length.")
#create variable inner_product of initial value zero
inner_product = 0
#apply for loop to calculate the inner product and return its value to the inner_product variable created obove
for i in range(len(a)):
  inner_product += a[i] * b[i]
# print the value of the inner product
print("inner product: ",inner_product)

# create (length of a x length of b) matrix for the outer product that has elements equal zero.
outer_product = np.zeros((len(a), len(b)))
#apply for loop to calculate the outer product and return its matrix to the outer_product matrix created
for i in range(len(a)):
  for j in range(len(b)):
    outer_product[i, j] = a[i] * b[j]
#print the outer product matrix
print("outer product: ",outer_product)

#Calculating the time of calculating the inner product using for loop
print("time of calculating inner product using for loop = ")
%%timeit
inner_product = 0
for i in range(len(a)):
  inner_product += a[i] * b[i]

#Calculating the time of calculating the outer product using for loop
print("time of calculating outer product using for loop = ")
%%timeit
outer_product = np.zeros((len(a), len(b)))
for i in range(len(a)):
  for j in range(len(b)):
    outer_product[i, j] = a[i] * b[j]

##Numpy Code
import numpy as np
"""
This Code Calculates the inner and outer product of two vectors using numpy built in functions
Args:
a:  NumPy array representing the first vector.
b:  NumPy array representing the second vector.
Returns:
    The inner product of the two vectors.
    A numpy array representing the outer product of the two vectors.

"""
# Create two vectors
a = np.array([2,3,4])
b = np.array([1,2,5])

# Create a new matrix of zeros with the same dimensions as the outer product
outer_product = np.zeros((len(a), len(b)))
#use numpy built in fuction to calculate the outer product
outer_product = np.outer(a,b)
#print the outer product
print("outer Product of a and b is: ", outer_product)

#use numpy builtin function to calculate the inner product
inner_product=np.inner(a,b)
# Print the inner product
print("Inner Product of a and b is: ",inner_product)

#Calculating the time of calculating the inner product using numpy
print("time of calculating inner product using numpy = ")
%timeit np.inner(a,b)

#Calculating the time of calculating the outer product using numpy
print("time of calculating outer product using numpy = ")
%timeit np.outer(a,b)


##Einsum 
import numpy as np
"""
This Code Calculates the inner and outer product of two vectors using numpy built in einsum function
Args:
a:  NumPy array representing the first vector.
b:  NumPy array representing the second vector.
Returns:
    The inner product of the two vectors.
    A numpy array representing the outer product of the two vectors.

"""
# Create two vectors: a and b. Each vector has three elements
a = np.array([2,3,4])
b = np.array([1,2,5])

# Calculate the inner product using Einstein notation
inner_product = np.einsum('i,i', a, b)

# Calculate the outer product using Einstein notation
outer_product = np.einsum('i,j', a, b)

# Print the outer product
print("outer product=", outer_product)

# Print the inner product
print("inner product= ", inner_product)

#Calculating the time of calculating the inner product using eisnum
print("time of calculating inner product using einsum = ")
%timeit np.einsum('i,i', a, b)

#Calculating the time of calculating the outer product using eisnum
print("time of calculating outer product using einsum = ")
%timeit np.einsum('i,j', a, b)
